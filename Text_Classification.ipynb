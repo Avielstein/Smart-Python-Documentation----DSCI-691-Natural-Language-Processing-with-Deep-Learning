{
 "cells": [
  {
   "cell_type": "code",
   "execution_count": 1,
   "metadata": {},
   "outputs": [
    {
     "name": "stdout",
     "output_type": "stream",
     "text": [
      "Requirement already satisfied: sklearn in /Users/yiwenshi/opt/anaconda3/lib/python3.8/site-packages (0.0)\n",
      "Requirement already satisfied: scikit-learn in /Users/yiwenshi/opt/anaconda3/lib/python3.8/site-packages (from sklearn) (0.24.1)\n",
      "Requirement already satisfied: threadpoolctl>=2.0.0 in /Users/yiwenshi/opt/anaconda3/lib/python3.8/site-packages (from scikit-learn->sklearn) (2.1.0)\n",
      "Requirement already satisfied: joblib>=0.11 in /Users/yiwenshi/opt/anaconda3/lib/python3.8/site-packages (from scikit-learn->sklearn) (1.0.1)\n",
      "Requirement already satisfied: scipy>=0.19.1 in /Users/yiwenshi/opt/anaconda3/lib/python3.8/site-packages (from scikit-learn->sklearn) (1.5.2)\n",
      "Requirement already satisfied: numpy>=1.13.3 in /Users/yiwenshi/opt/anaconda3/lib/python3.8/site-packages (from scikit-learn->sklearn) (1.20.2)\n"
     ]
    }
   ],
   "source": [
    "!pip3 install sklearn"
   ]
  },
  {
   "cell_type": "code",
   "execution_count": 2,
   "metadata": {},
   "outputs": [],
   "source": [
    "import pandas as pd\n",
    "import numpy as np\n",
    "import re\n",
    "from nltk.tokenize import sent_tokenize\n",
    "from nltk.corpus import stopwords\n",
    "from nltk.tokenize import sent_tokenize, word_tokenize\n",
    "stop_words = stopwords.words('english')"
   ]
  },
  {
   "cell_type": "code",
   "execution_count": 3,
   "metadata": {},
   "outputs": [],
   "source": [
    "project_df = pd.read_csv('project_hub_summary.csv')\n",
    "result_df = pd.DataFrame(columns=['Precision', 'Recall', 'F1'])"
   ]
  },
  {
   "cell_type": "code",
   "execution_count": 4,
   "metadata": {},
   "outputs": [
    {
     "data": {
      "text/html": [
       "<div>\n",
       "<style scoped>\n",
       "    .dataframe tbody tr th:only-of-type {\n",
       "        vertical-align: middle;\n",
       "    }\n",
       "\n",
       "    .dataframe tbody tr th {\n",
       "        vertical-align: top;\n",
       "    }\n",
       "\n",
       "    .dataframe thead th {\n",
       "        text-align: right;\n",
       "    }\n",
       "</style>\n",
       "<table border=\"1\" class=\"dataframe\">\n",
       "  <thead>\n",
       "    <tr style=\"text-align: right;\">\n",
       "      <th></th>\n",
       "      <th>catigory</th>\n",
       "      <th>link</th>\n",
       "      <th>text</th>\n",
       "      <th>Text_Rank</th>\n",
       "      <th>LEAD3</th>\n",
       "      <th>BART</th>\n",
       "      <th>text_len</th>\n",
       "      <th>LEAD3_len</th>\n",
       "      <th>LEAD3_len_percent</th>\n",
       "      <th>Text_Rank_len</th>\n",
       "      <th>Text_Rank_len_percent</th>\n",
       "      <th>BART_len</th>\n",
       "      <th>BART_len_percent</th>\n",
       "    </tr>\n",
       "  </thead>\n",
       "  <tbody>\n",
       "    <tr>\n",
       "      <th>0</th>\n",
       "      <td>audio-sound</td>\n",
       "      <td>https://create.arduino.cc//projecthub/buzzandy...</td>\n",
       "      <td>My niece is getting into music so I to make he...</td>\n",
       "      <td>Introduction This project was pretty simple an...</td>\n",
       "      <td>My niece is getting into music so I to make he...</td>\n",
       "      <td>My niece is getting into music so I to make h...</td>\n",
       "      <td>262.0</td>\n",
       "      <td>37.0</td>\n",
       "      <td>0.141221</td>\n",
       "      <td>85.0</td>\n",
       "      <td>0.324427</td>\n",
       "      <td>63.0</td>\n",
       "      <td>0.240458</td>\n",
       "    </tr>\n",
       "    <tr>\n",
       "      <th>1</th>\n",
       "      <td>audio-sound</td>\n",
       "      <td>https://create.arduino.cc//projecthub/shajeeb/...</td>\n",
       "      <td>This project is for making a band audio music ...</td>\n",
       "      <td>Main of this frequency spectrum analyzer easil...</td>\n",
       "      <td>This project is for making a band audio music ...</td>\n",
       "      <td>This project is for making a band audio music...</td>\n",
       "      <td>810.0</td>\n",
       "      <td>47.0</td>\n",
       "      <td>0.058025</td>\n",
       "      <td>157.0</td>\n",
       "      <td>0.193827</td>\n",
       "      <td>61.0</td>\n",
       "      <td>0.075309</td>\n",
       "    </tr>\n",
       "    <tr>\n",
       "      <th>2</th>\n",
       "      <td>audio-sound</td>\n",
       "      <td>https://create.arduino.cc//projecthub/ericBcre...</td>\n",
       "      <td>The idea seen some I thought it would be cool ...</td>\n",
       "      <td>fooling around with a spinning and version exc...</td>\n",
       "      <td>The idea seen some I thought it would be cool ...</td>\n",
       "      <td>The idea seen some I thought it would be cool...</td>\n",
       "      <td>590.0</td>\n",
       "      <td>60.0</td>\n",
       "      <td>0.101695</td>\n",
       "      <td>192.0</td>\n",
       "      <td>0.325424</td>\n",
       "      <td>51.0</td>\n",
       "      <td>0.086441</td>\n",
       "    </tr>\n",
       "    <tr>\n",
       "      <th>3</th>\n",
       "      <td>audio-sound</td>\n",
       "      <td>https://create.arduino.cc//projecthub/lindsi87...</td>\n",
       "      <td>To begin I should fill you in that I am comple...</td>\n",
       "      <td>and setting the frequency for each of the pian...</td>\n",
       "      <td>To begin I should fill you in that I am comple...</td>\n",
       "      <td>The basic for both the main and the individua...</td>\n",
       "      <td>789.0</td>\n",
       "      <td>64.0</td>\n",
       "      <td>0.081115</td>\n",
       "      <td>90.0</td>\n",
       "      <td>0.114068</td>\n",
       "      <td>45.0</td>\n",
       "      <td>0.057034</td>\n",
       "    </tr>\n",
       "    <tr>\n",
       "      <th>4</th>\n",
       "      <td>audio-sound</td>\n",
       "      <td>https://create.arduino.cc//projecthub/jrance/s...</td>\n",
       "      <td>Learning electronics not only can be fan but i...</td>\n",
       "      <td>I used to be one of those thinking I would nev...</td>\n",
       "      <td>Learning electronics not only can be fan but i...</td>\n",
       "      <td>Learning electronics not only can be fan but ...</td>\n",
       "      <td>219.0</td>\n",
       "      <td>62.0</td>\n",
       "      <td>0.283105</td>\n",
       "      <td>86.0</td>\n",
       "      <td>0.392694</td>\n",
       "      <td>68.0</td>\n",
       "      <td>0.310502</td>\n",
       "    </tr>\n",
       "  </tbody>\n",
       "</table>\n",
       "</div>"
      ],
      "text/plain": [
       "      catigory                                               link  \\\n",
       "0  audio-sound  https://create.arduino.cc//projecthub/buzzandy...   \n",
       "1  audio-sound  https://create.arduino.cc//projecthub/shajeeb/...   \n",
       "2  audio-sound  https://create.arduino.cc//projecthub/ericBcre...   \n",
       "3  audio-sound  https://create.arduino.cc//projecthub/lindsi87...   \n",
       "4  audio-sound  https://create.arduino.cc//projecthub/jrance/s...   \n",
       "\n",
       "                                                text  \\\n",
       "0  My niece is getting into music so I to make he...   \n",
       "1  This project is for making a band audio music ...   \n",
       "2  The idea seen some I thought it would be cool ...   \n",
       "3  To begin I should fill you in that I am comple...   \n",
       "4  Learning electronics not only can be fan but i...   \n",
       "\n",
       "                                           Text_Rank  \\\n",
       "0  Introduction This project was pretty simple an...   \n",
       "1  Main of this frequency spectrum analyzer easil...   \n",
       "2  fooling around with a spinning and version exc...   \n",
       "3  and setting the frequency for each of the pian...   \n",
       "4  I used to be one of those thinking I would nev...   \n",
       "\n",
       "                                               LEAD3  \\\n",
       "0  My niece is getting into music so I to make he...   \n",
       "1  This project is for making a band audio music ...   \n",
       "2  The idea seen some I thought it would be cool ...   \n",
       "3  To begin I should fill you in that I am comple...   \n",
       "4  Learning electronics not only can be fan but i...   \n",
       "\n",
       "                                                BART  text_len  LEAD3_len  \\\n",
       "0   My niece is getting into music so I to make h...     262.0       37.0   \n",
       "1   This project is for making a band audio music...     810.0       47.0   \n",
       "2   The idea seen some I thought it would be cool...     590.0       60.0   \n",
       "3   The basic for both the main and the individua...     789.0       64.0   \n",
       "4   Learning electronics not only can be fan but ...     219.0       62.0   \n",
       "\n",
       "   LEAD3_len_percent  Text_Rank_len  Text_Rank_len_percent  BART_len  \\\n",
       "0           0.141221           85.0               0.324427      63.0   \n",
       "1           0.058025          157.0               0.193827      61.0   \n",
       "2           0.101695          192.0               0.325424      51.0   \n",
       "3           0.081115           90.0               0.114068      45.0   \n",
       "4           0.283105           86.0               0.392694      68.0   \n",
       "\n",
       "   BART_len_percent  \n",
       "0          0.240458  \n",
       "1          0.075309  \n",
       "2          0.086441  \n",
       "3          0.057034  \n",
       "4          0.310502  "
      ]
     },
     "execution_count": 4,
     "metadata": {},
     "output_type": "execute_result"
    }
   ],
   "source": [
    "project_df.head()"
   ]
  },
  {
   "cell_type": "code",
   "execution_count": 5,
   "metadata": {},
   "outputs": [
    {
     "name": "stdout",
     "output_type": "stream",
     "text": [
      "internet-of-things-bt-wireless    107\n",
      "wearables-health-fitness          102\n",
      "lab-stuff                         101\n",
      "motors-robotics                    99\n",
      "home-automation                    94\n",
      "gadgets-games-toys                 87\n",
      "audio-sound                        87\n",
      "lights-leds                        82\n",
      "sensors-environment                82\n",
      "screens-displays                   74\n",
      "Name: catigory, dtype: int64\n"
     ]
    }
   ],
   "source": [
    "print(project_df['catigory'].value_counts())"
   ]
  },
  {
   "cell_type": "code",
   "execution_count": 6,
   "metadata": {},
   "outputs": [],
   "source": [
    "def prepare_data(df):\n",
    "    train_df = df.sample(frac = 0.8, random_state = 100)\n",
    "    test_df = df.drop(train_df.index).reset_index(drop=True)\n",
    "    train_df = train_df.reset_index(drop = True)\n",
    "    print('{},{}'.format(str(len(train_df)), str(len(test_df))))\n",
    "    return train_df, test_df"
   ]
  },
  {
   "cell_type": "code",
   "execution_count": 7,
   "metadata": {},
   "outputs": [],
   "source": [
    "MAX_FEATURE = 1000"
   ]
  },
  {
   "cell_type": "code",
   "execution_count": 8,
   "metadata": {},
   "outputs": [
    {
     "name": "stdout",
     "output_type": "stream",
     "text": [
      "732,183\n",
      "internet-of-things-bt-wireless    89\n",
      "wearables-health-fitness          85\n",
      "motors-robotics                   78\n",
      "lab-stuff                         75\n",
      "home-automation                   75\n",
      "gadgets-games-toys                73\n",
      "lights-leds                       66\n",
      "audio-sound                       66\n",
      "sensors-environment               64\n",
      "screens-displays                  61\n",
      "Name: catigory, dtype: int64\n",
      "lab-stuff                         26\n",
      "audio-sound                       21\n",
      "motors-robotics                   21\n",
      "home-automation                   19\n",
      "sensors-environment               18\n",
      "internet-of-things-bt-wireless    18\n",
      "wearables-health-fitness          17\n",
      "lights-leds                       16\n",
      "gadgets-games-toys                14\n",
      "screens-displays                  13\n",
      "Name: catigory, dtype: int64\n"
     ]
    }
   ],
   "source": [
    "train_df, test_df = prepare_data(project_df)\n",
    "print(train_df['catigory'].value_counts())\n",
    "print(test_df['catigory'].value_counts())"
   ]
  },
  {
   "cell_type": "code",
   "execution_count": 9,
   "metadata": {},
   "outputs": [
    {
     "data": {
      "text/plain": [
       "400000"
      ]
     },
     "execution_count": 9,
     "metadata": {},
     "output_type": "execute_result"
    }
   ],
   "source": [
    "word_embeddings = {}\n",
    "f = open('glove.6B.100d.txt', encoding='utf-8')\n",
    "for line in f:\n",
    "    values = line.split()\n",
    "    word = values[0]\n",
    "    coefs = np.asarray(values[1:], dtype='float32')\n",
    "    word_embeddings[word] = coefs\n",
    "f.close()\n",
    "len(word_embeddings)"
   ]
  },
  {
   "cell_type": "code",
   "execution_count": 10,
   "metadata": {},
   "outputs": [],
   "source": [
    "def remove_stopwords(sen):\n",
    "    sen_new = \" \".join([i for i in sen if i not in stop_words])\n",
    "    return sen_new\n",
    "\n",
    "def sentence_glove(text_list):\n",
    "    sentence_glove = []\n",
    "    for text in text_list:\n",
    "        clean_sentences = re.sub(\"[^a-zA-Z]\", \" \", text)\n",
    "        clean_sentences = clean_sentences.lower()\n",
    "        clean_sentences = remove_stopwords(clean_sentences.split())\n",
    "        tokens = clean_sentences.split()\n",
    "        v = []\n",
    "        for i in range(100):\n",
    "            if i < len(tokens):\n",
    "                v.append(word_embeddings.get(tokens[i], np.zeros((100,))))\n",
    "            else:\n",
    "                v.append(np.zeros((100,)))\n",
    "#         v = sum([word_embeddings.get(w, np.zeros((100,))) for w in clean_sentences.split()])/(len(clean_sentences.split())+0.001)\n",
    "        sentence_glove.append(np.array(v).flatten())\n",
    "    return sentence_glove"
   ]
  },
  {
   "cell_type": "code",
   "execution_count": 11,
   "metadata": {},
   "outputs": [],
   "source": [
    "from sklearn.metrics import f1_score, accuracy_score, roc_auc_score, recall_score, precision_score, confusion_matrix, classification_report\n",
    "def report_results(A, B):\n",
    "    A_name = A.name\n",
    "    B_name = B.name\n",
    "    \n",
    "    df = pd.DataFrame({'A':A,\n",
    "                       'B':B})\n",
    "    df = df.dropna()\n",
    "    A = df['A']\n",
    "    B = df['B']\n",
    "    \n",
    "    acc = accuracy_score(B, A)\n",
    "    f1 = f1_score(B, A, average='weighted')\n",
    "    prec = precision_score(B, A, average='weighted')\n",
    "    rec = recall_score(B, A, average='weighted')\n",
    "\n",
    "    print('accuracy: %0.4f \\nprecision: %0.4f \\nrecall: %0.4f \\nF1 score: %0.4f \\n' % (acc, prec, rec, f1))\n",
    "    print(confusion_matrix(B, A))\n",
    "    print(classification_report(B, A))\n",
    "    return prec, rec, f1"
   ]
  },
  {
   "cell_type": "code",
   "execution_count": 12,
   "metadata": {},
   "outputs": [],
   "source": [
    "from sklearn.linear_model import LogisticRegression\n",
    "from sklearn.ensemble import RandomForestClassifier\n",
    "from sklearn.feature_extraction.text import TfidfVectorizer"
   ]
  },
  {
   "cell_type": "code",
   "execution_count": 13,
   "metadata": {},
   "outputs": [
    {
     "name": "stdout",
     "output_type": "stream",
     "text": [
      "Logistic Regression\n",
      "\n",
      "accuracy: 0.3279 \n",
      "precision: 0.3132 \n",
      "recall: 0.3279 \n",
      "F1 score: 0.3158 \n",
      "\n",
      "[[ 7  3  3  2  2  0  2  1  0  1]\n",
      " [ 0  4  2  0  2  1  3  1  1  0]\n",
      " [ 1  3  1  6  3  0  2  0  2  1]\n",
      " [ 0  3  0  6  5  1  1  0  1  1]\n",
      " [ 2  1  3  4  6  2  3  1  3  1]\n",
      " [ 1  3  0  0  2  7  1  1  1  0]\n",
      " [ 0  1  1  3  1  1 12  0  1  1]\n",
      " [ 4  3  1  1  3  1  0  0  0  0]\n",
      " [ 0  1  0  2  0  2  3  0  7  3]\n",
      " [ 0  2  1  0  1  1  1  0  1 10]]\n",
      "                                precision    recall  f1-score   support\n",
      "\n",
      "                   audio-sound       0.47      0.33      0.39        21\n",
      "            gadgets-games-toys       0.17      0.29      0.21        14\n",
      "               home-automation       0.08      0.05      0.06        19\n",
      "internet-of-things-bt-wireless       0.25      0.33      0.29        18\n",
      "                     lab-stuff       0.24      0.23      0.24        26\n",
      "                   lights-leds       0.44      0.44      0.44        16\n",
      "               motors-robotics       0.43      0.57      0.49        21\n",
      "              screens-displays       0.00      0.00      0.00        13\n",
      "           sensors-environment       0.41      0.39      0.40        18\n",
      "      wearables-health-fitness       0.56      0.59      0.57        17\n",
      "\n",
      "                      accuracy                           0.33       183\n",
      "                     macro avg       0.30      0.32      0.31       183\n",
      "                  weighted avg       0.31      0.33      0.32       183\n",
      "\n",
      "incorrect: 123\n"
     ]
    },
    {
     "name": "stderr",
     "output_type": "stream",
     "text": [
      "/Users/yiwenshi/opt/anaconda3/lib/python3.8/site-packages/sklearn/linear_model/_logistic.py:763: ConvergenceWarning: lbfgs failed to converge (status=1):\n",
      "STOP: TOTAL NO. of ITERATIONS REACHED LIMIT.\n",
      "\n",
      "Increase the number of iterations (max_iter) or scale the data as shown in:\n",
      "    https://scikit-learn.org/stable/modules/preprocessing.html\n",
      "Please also refer to the documentation for alternative solver options:\n",
      "    https://scikit-learn.org/stable/modules/linear_model.html#logistic-regression\n",
      "  n_iter_i = _check_optimize_result(\n"
     ]
    }
   ],
   "source": [
    "x_train = sentence_glove(train_df['text'])\n",
    "y_train = train_df['catigory']\n",
    "x_test = sentence_glove(test_df['text'])\n",
    "y_test = test_df['catigory']\n",
    "\n",
    "    \n",
    "model_lc = LogisticRegression()\n",
    "model_lc.fit(x_train, y_train)\n",
    "test_df['LR_Prediction'] = model_lc.predict(x_test)\n",
    "print('Logistic Regression\\n')\n",
    "prec, rec, f1 = report_results(test_df['LR_Prediction'], test_df['catigory'])\n",
    "incorrect = test_df[test_df['LR_Prediction'] != test_df['catigory']]\n",
    "print('incorrect: ' + str(len(incorrect)))\n",
    "result_df.loc['Original_LR'] = [prec, rec, f1]    "
   ]
  },
  {
   "cell_type": "code",
   "execution_count": 14,
   "metadata": {},
   "outputs": [
    {
     "name": "stdout",
     "output_type": "stream",
     "text": [
      "Logistic Regression\n",
      "\n",
      "accuracy: 0.2842 \n",
      "precision: 0.2777 \n",
      "recall: 0.2842 \n",
      "F1 score: 0.2781 \n",
      "\n",
      "[[ 5  4  0  1  5  2  1  0  0  3]\n",
      " [ 2  2  1  2  0  1  3  1  1  1]\n",
      " [ 1  5  3  1  3  0  4  0  1  1]\n",
      " [ 0  2  1  8  2  0  3  0  1  1]\n",
      " [ 2  2  3  2  3  0  2  3  5  4]\n",
      " [ 2  2  0  1  0  7  1  0  2  1]\n",
      " [ 1  0  2  2  3  1  8  1  1  2]\n",
      " [ 3  0  3  0  2  0  1  3  1  0]\n",
      " [ 0  1  4  2  2  1  2  3  3  0]\n",
      " [ 0  0  0  0  0  3  1  0  3 10]]\n",
      "                                precision    recall  f1-score   support\n",
      "\n",
      "                   audio-sound       0.31      0.24      0.27        21\n",
      "            gadgets-games-toys       0.11      0.14      0.12        14\n",
      "               home-automation       0.18      0.16      0.17        19\n",
      "internet-of-things-bt-wireless       0.42      0.44      0.43        18\n",
      "                     lab-stuff       0.15      0.12      0.13        26\n",
      "                   lights-leds       0.47      0.44      0.45        16\n",
      "               motors-robotics       0.31      0.38      0.34        21\n",
      "              screens-displays       0.27      0.23      0.25        13\n",
      "           sensors-environment       0.17      0.17      0.17        18\n",
      "      wearables-health-fitness       0.43      0.59      0.50        17\n",
      "\n",
      "                      accuracy                           0.28       183\n",
      "                     macro avg       0.28      0.29      0.28       183\n",
      "                  weighted avg       0.28      0.28      0.28       183\n",
      "\n",
      "incorrect: 131\n"
     ]
    },
    {
     "name": "stderr",
     "output_type": "stream",
     "text": [
      "/Users/yiwenshi/opt/anaconda3/lib/python3.8/site-packages/sklearn/linear_model/_logistic.py:763: ConvergenceWarning: lbfgs failed to converge (status=1):\n",
      "STOP: TOTAL NO. of ITERATIONS REACHED LIMIT.\n",
      "\n",
      "Increase the number of iterations (max_iter) or scale the data as shown in:\n",
      "    https://scikit-learn.org/stable/modules/preprocessing.html\n",
      "Please also refer to the documentation for alternative solver options:\n",
      "    https://scikit-learn.org/stable/modules/linear_model.html#logistic-regression\n",
      "  n_iter_i = _check_optimize_result(\n"
     ]
    }
   ],
   "source": [
    "x_train = sentence_glove(train_df['LEAD3'])\n",
    "y_train = train_df['catigory']\n",
    "x_test = sentence_glove(test_df['LEAD3'])\n",
    "y_test = test_df['catigory']\n",
    "    \n",
    "model_lc = LogisticRegression()\n",
    "model_lc.fit(x_train, y_train)\n",
    "test_df['LR_Prediction'] = model_lc.predict(x_test)\n",
    "print('Logistic Regression\\n')\n",
    "prec, rec, f1 = report_results(test_df['LR_Prediction'], test_df['catigory'])\n",
    "incorrect = test_df[test_df['LR_Prediction'] != test_df['catigory']]\n",
    "print('incorrect: ' + str(len(incorrect)))\n",
    "result_df.loc['LEAD3_LR'] = [prec, rec, f1]    "
   ]
  },
  {
   "cell_type": "code",
   "execution_count": 15,
   "metadata": {},
   "outputs": [
    {
     "name": "stdout",
     "output_type": "stream",
     "text": [
      "Logistic Regression\n",
      "\n",
      "accuracy: 0.2295 \n",
      "precision: 0.2458 \n",
      "recall: 0.2295 \n",
      "F1 score: 0.2220 \n",
      "\n",
      "[[2 2 0 0 5 1 3 3 0 5]\n",
      " [0 3 2 3 1 1 2 1 0 1]\n",
      " [0 2 2 4 1 2 0 1 2 5]\n",
      " [1 1 0 4 2 1 4 1 2 2]\n",
      " [5 2 0 9 5 1 1 1 0 2]\n",
      " [1 2 1 0 0 7 1 1 0 3]\n",
      " [0 1 0 3 5 1 8 1 0 2]\n",
      " [1 1 1 1 1 1 2 3 0 2]\n",
      " [0 3 1 1 2 0 3 1 2 5]\n",
      " [2 1 0 2 0 0 5 1 0 6]]\n",
      "                                precision    recall  f1-score   support\n",
      "\n",
      "                   audio-sound       0.17      0.10      0.12        21\n",
      "            gadgets-games-toys       0.17      0.21      0.19        14\n",
      "               home-automation       0.29      0.11      0.15        19\n",
      "internet-of-things-bt-wireless       0.15      0.22      0.18        18\n",
      "                     lab-stuff       0.23      0.19      0.21        26\n",
      "                   lights-leds       0.47      0.44      0.45        16\n",
      "               motors-robotics       0.28      0.38      0.32        21\n",
      "              screens-displays       0.21      0.23      0.22        13\n",
      "           sensors-environment       0.33      0.11      0.17        18\n",
      "      wearables-health-fitness       0.18      0.35      0.24        17\n",
      "\n",
      "                      accuracy                           0.23       183\n",
      "                     macro avg       0.25      0.23      0.22       183\n",
      "                  weighted avg       0.25      0.23      0.22       183\n",
      "\n",
      "incorrect: 141\n"
     ]
    },
    {
     "name": "stderr",
     "output_type": "stream",
     "text": [
      "/Users/yiwenshi/opt/anaconda3/lib/python3.8/site-packages/sklearn/linear_model/_logistic.py:763: ConvergenceWarning: lbfgs failed to converge (status=1):\n",
      "STOP: TOTAL NO. of ITERATIONS REACHED LIMIT.\n",
      "\n",
      "Increase the number of iterations (max_iter) or scale the data as shown in:\n",
      "    https://scikit-learn.org/stable/modules/preprocessing.html\n",
      "Please also refer to the documentation for alternative solver options:\n",
      "    https://scikit-learn.org/stable/modules/linear_model.html#logistic-regression\n",
      "  n_iter_i = _check_optimize_result(\n"
     ]
    }
   ],
   "source": [
    "x_train = sentence_glove(train_df['Text_Rank'])\n",
    "y_train = train_df['catigory']\n",
    "x_test = sentence_glove(test_df['Text_Rank'])\n",
    "y_test = test_df['catigory']\n",
    "    \n",
    "model_lc = LogisticRegression()\n",
    "model_lc.fit(x_train, y_train)\n",
    "test_df['LR_Prediction'] = model_lc.predict(x_test)\n",
    "print('Logistic Regression\\n')\n",
    "prec, rec, f1 = report_results(test_df['LR_Prediction'], test_df['catigory'])\n",
    "incorrect = test_df[test_df['LR_Prediction'] != test_df['catigory']]\n",
    "print('incorrect: ' + str(len(incorrect)))\n",
    "result_df.loc['Text_Rank_LR'] = [prec, rec, f1]    "
   ]
  },
  {
   "cell_type": "code",
   "execution_count": 16,
   "metadata": {},
   "outputs": [
    {
     "name": "stdout",
     "output_type": "stream",
     "text": [
      "Logistic Regression\n",
      "\n",
      "accuracy: 0.3279 \n",
      "precision: 0.3690 \n",
      "recall: 0.3279 \n",
      "F1 score: 0.3350 \n",
      "\n",
      "[[ 8  3  2  4  1  2  0  1  0  0]\n",
      " [ 0  5  5  0  0  2  1  1  0  0]\n",
      " [ 3  2  6  2  2  1  3  0  0  0]\n",
      " [ 1  2  3  6  2  0  2  1  0  1]\n",
      " [ 0  1  1  7  7  2  3  3  1  1]\n",
      " [ 0  2  1  1  1  6  1  2  2  0]\n",
      " [ 0  2  2  2  4  0 10  0  0  1]\n",
      " [ 0  1  4  2  5  0  0  1  0  0]\n",
      " [ 0  2  5  2  1  1  1  2  3  1]\n",
      " [ 0  2  1  0  1  2  1  0  2  8]]\n",
      "                                precision    recall  f1-score   support\n",
      "\n",
      "                   audio-sound       0.67      0.38      0.48        21\n",
      "            gadgets-games-toys       0.23      0.36      0.28        14\n",
      "               home-automation       0.20      0.32      0.24        19\n",
      "internet-of-things-bt-wireless       0.23      0.33      0.27        18\n",
      "                     lab-stuff       0.29      0.27      0.28        26\n",
      "                   lights-leds       0.38      0.38      0.38        16\n",
      "               motors-robotics       0.45      0.48      0.47        21\n",
      "              screens-displays       0.09      0.08      0.08        13\n",
      "           sensors-environment       0.38      0.17      0.23        18\n",
      "      wearables-health-fitness       0.67      0.47      0.55        17\n",
      "\n",
      "                      accuracy                           0.33       183\n",
      "                     macro avg       0.36      0.32      0.33       183\n",
      "                  weighted avg       0.37      0.33      0.33       183\n",
      "\n",
      "incorrect: 123\n"
     ]
    },
    {
     "name": "stderr",
     "output_type": "stream",
     "text": [
      "/Users/yiwenshi/opt/anaconda3/lib/python3.8/site-packages/sklearn/linear_model/_logistic.py:763: ConvergenceWarning: lbfgs failed to converge (status=1):\n",
      "STOP: TOTAL NO. of ITERATIONS REACHED LIMIT.\n",
      "\n",
      "Increase the number of iterations (max_iter) or scale the data as shown in:\n",
      "    https://scikit-learn.org/stable/modules/preprocessing.html\n",
      "Please also refer to the documentation for alternative solver options:\n",
      "    https://scikit-learn.org/stable/modules/linear_model.html#logistic-regression\n",
      "  n_iter_i = _check_optimize_result(\n"
     ]
    }
   ],
   "source": [
    "x_train = sentence_glove(train_df['BART'])\n",
    "y_train = train_df['catigory']\n",
    "x_test = sentence_glove(test_df['BART'])\n",
    "y_test = test_df['catigory']\n",
    "    \n",
    "    \n",
    "model_lc = LogisticRegression()\n",
    "model_lc.fit(x_train, y_train)\n",
    "test_df['LR_Prediction'] = model_lc.predict(x_test)\n",
    "print('Logistic Regression\\n')\n",
    "prec, rec, f1 = report_results(test_df['LR_Prediction'], test_df['catigory'])\n",
    "incorrect = test_df[test_df['LR_Prediction'] != test_df['catigory']]\n",
    "print('incorrect: ' + str(len(incorrect)))\n",
    "result_df.loc['BART_LR'] = [prec, rec, f1]    "
   ]
  },
  {
   "cell_type": "code",
   "execution_count": 17,
   "metadata": {},
   "outputs": [
    {
     "data": {
      "text/html": [
       "<div>\n",
       "<style scoped>\n",
       "    .dataframe tbody tr th:only-of-type {\n",
       "        vertical-align: middle;\n",
       "    }\n",
       "\n",
       "    .dataframe tbody tr th {\n",
       "        vertical-align: top;\n",
       "    }\n",
       "\n",
       "    .dataframe thead th {\n",
       "        text-align: right;\n",
       "    }\n",
       "</style>\n",
       "<table border=\"1\" class=\"dataframe\">\n",
       "  <thead>\n",
       "    <tr style=\"text-align: right;\">\n",
       "      <th></th>\n",
       "      <th>Precision</th>\n",
       "      <th>Recall</th>\n",
       "      <th>F1</th>\n",
       "    </tr>\n",
       "  </thead>\n",
       "  <tbody>\n",
       "    <tr>\n",
       "      <th>Original_LR</th>\n",
       "      <td>0.313185</td>\n",
       "      <td>0.327869</td>\n",
       "      <td>0.315849</td>\n",
       "    </tr>\n",
       "    <tr>\n",
       "      <th>LEAD3_LR</th>\n",
       "      <td>0.277677</td>\n",
       "      <td>0.284153</td>\n",
       "      <td>0.278099</td>\n",
       "    </tr>\n",
       "    <tr>\n",
       "      <th>Text_Rank_LR</th>\n",
       "      <td>0.245760</td>\n",
       "      <td>0.229508</td>\n",
       "      <td>0.221994</td>\n",
       "    </tr>\n",
       "    <tr>\n",
       "      <th>BART_LR</th>\n",
       "      <td>0.369014</td>\n",
       "      <td>0.327869</td>\n",
       "      <td>0.334955</td>\n",
       "    </tr>\n",
       "  </tbody>\n",
       "</table>\n",
       "</div>"
      ],
      "text/plain": [
       "              Precision    Recall        F1\n",
       "Original_LR    0.313185  0.327869  0.315849\n",
       "LEAD3_LR       0.277677  0.284153  0.278099\n",
       "Text_Rank_LR   0.245760  0.229508  0.221994\n",
       "BART_LR        0.369014  0.327869  0.334955"
      ]
     },
     "execution_count": 17,
     "metadata": {},
     "output_type": "execute_result"
    }
   ],
   "source": [
    "result_df"
   ]
  }
 ],
 "metadata": {
  "kernelspec": {
   "display_name": "Python 3",
   "language": "python",
   "name": "python3"
  },
  "language_info": {
   "codemirror_mode": {
    "name": "ipython",
    "version": 3
   },
   "file_extension": ".py",
   "mimetype": "text/x-python",
   "name": "python",
   "nbconvert_exporter": "python",
   "pygments_lexer": "ipython3",
   "version": "3.8.5"
  }
 },
 "nbformat": 4,
 "nbformat_minor": 4
}
