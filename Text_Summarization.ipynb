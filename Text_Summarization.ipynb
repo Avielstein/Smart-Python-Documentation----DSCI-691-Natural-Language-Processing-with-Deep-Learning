{
 "cells": [
  {
   "cell_type": "code",
   "execution_count": 1,
   "metadata": {},
   "outputs": [],
   "source": [
    "import numpy as np\n",
    "import pandas as pd\n",
    "import nltk\n",
    "import re"
   ]
  },
  {
   "cell_type": "code",
   "execution_count": 2,
   "metadata": {},
   "outputs": [
    {
     "name": "stderr",
     "output_type": "stream",
     "text": [
      "[nltk_data] Downloading package stopwords to\n",
      "[nltk_data]     /Users/yiwenshi/nltk_data...\n",
      "[nltk_data]   Package stopwords is already up-to-date!\n",
      "[nltk_data] Downloading package punkt to /Users/yiwenshi/nltk_data...\n",
      "[nltk_data]   Package punkt is already up-to-date!\n"
     ]
    },
    {
     "data": {
      "text/plain": [
       "True"
      ]
     },
     "execution_count": 2,
     "metadata": {},
     "output_type": "execute_result"
    }
   ],
   "source": [
    "nltk.download('stopwords')\n",
    "nltk.download('punkt') # one time execution"
   ]
  },
  {
   "cell_type": "code",
   "execution_count": 3,
   "metadata": {},
   "outputs": [],
   "source": [
    "from nltk.corpus import stopwords\n",
    "from nltk.tokenize import sent_tokenize, word_tokenize\n",
    "stop_words = stopwords.words('english')"
   ]
  },
  {
   "cell_type": "code",
   "execution_count": 4,
   "metadata": {},
   "outputs": [],
   "source": [
    "from sklearn.metrics.pairwise import cosine_similarity\n",
    "import networkx as nx"
   ]
  },
  {
   "cell_type": "code",
   "execution_count": 5,
   "metadata": {},
   "outputs": [
    {
     "name": "stdout",
     "output_type": "stream",
     "text": [
      "--2021-06-08 13:35:21--  http://nlp.stanford.edu/data/glove.6B.zip\n",
      "Resolving nlp.stanford.edu (nlp.stanford.edu)... 171.64.67.140\n",
      "Connecting to nlp.stanford.edu (nlp.stanford.edu)|171.64.67.140|:80... connected.\n",
      "HTTP request sent, awaiting response... 302 Found\n",
      "Location: https://nlp.stanford.edu/data/glove.6B.zip [following]\n",
      "--2021-06-08 13:35:21--  https://nlp.stanford.edu/data/glove.6B.zip\n",
      "Connecting to nlp.stanford.edu (nlp.stanford.edu)|171.64.67.140|:443... connected.\n",
      "HTTP request sent, awaiting response... 301 Moved Permanently\n",
      "Location: http://downloads.cs.stanford.edu/nlp/data/glove.6B.zip [following]\n",
      "--2021-06-08 13:35:21--  http://downloads.cs.stanford.edu/nlp/data/glove.6B.zip\n",
      "Resolving downloads.cs.stanford.edu (downloads.cs.stanford.edu)... 171.64.64.22\n",
      "Connecting to downloads.cs.stanford.edu (downloads.cs.stanford.edu)|171.64.64.22|:80... connected.\n",
      "HTTP request sent, awaiting response... 200 OK\n",
      "Length: 862182613 (822M) [application/zip]\n",
      "Saving to: ‘glove.6B.zip’\n",
      "\n",
      "glove.6B.zip        100%[===================>] 822.24M  5.31MB/s    in 2m 43s  \n",
      "\n",
      "2021-06-08 13:38:04 (5.05 MB/s) - ‘glove.6B.zip’ saved [862182613/862182613]\n",
      "\n",
      "Archive:  glove.6B.zip\n",
      "  inflating: glove.6B.50d.txt        \n",
      "  inflating: glove.6B.100d.txt       \n",
      "  inflating: glove.6B.200d.txt       \n",
      "  inflating: glove.6B.300d.txt       \n"
     ]
    }
   ],
   "source": [
    "!wget http://nlp.stanford.edu/data/glove.6B.zip\n",
    "!unzip glove*.zip"
   ]
  },
  {
   "cell_type": "code",
   "execution_count": 6,
   "metadata": {},
   "outputs": [
    {
     "data": {
      "text/plain": [
       "400000"
      ]
     },
     "execution_count": 6,
     "metadata": {},
     "output_type": "execute_result"
    }
   ],
   "source": [
    "# Extract word vectors\n",
    "word_embeddings = {}\n",
    "f = open('glove.6B.100d.txt', encoding='utf-8')\n",
    "for line in f:\n",
    "    values = line.split()\n",
    "    word = values[0]\n",
    "    coefs = np.asarray(values[1:], dtype='float32')\n",
    "    word_embeddings[word] = coefs\n",
    "f.close()\n",
    "len(word_embeddings)"
   ]
  },
  {
   "cell_type": "code",
   "execution_count": 7,
   "metadata": {},
   "outputs": [],
   "source": [
    "df = pd.read_csv('project_hub.csv')"
   ]
  },
  {
   "cell_type": "code",
   "execution_count": 8,
   "metadata": {},
   "outputs": [
    {
     "data": {
      "text/html": [
       "<div>\n",
       "<style scoped>\n",
       "    .dataframe tbody tr th:only-of-type {\n",
       "        vertical-align: middle;\n",
       "    }\n",
       "\n",
       "    .dataframe tbody tr th {\n",
       "        vertical-align: top;\n",
       "    }\n",
       "\n",
       "    .dataframe thead th {\n",
       "        text-align: right;\n",
       "    }\n",
       "</style>\n",
       "<table border=\"1\" class=\"dataframe\">\n",
       "  <thead>\n",
       "    <tr style=\"text-align: right;\">\n",
       "      <th></th>\n",
       "      <th>catigory</th>\n",
       "      <th>link</th>\n",
       "      <th>text</th>\n",
       "      <th>Text_Rank</th>\n",
       "      <th>LEAD3</th>\n",
       "      <th>BART</th>\n",
       "      <th>text_len</th>\n",
       "      <th>LEAD3_len</th>\n",
       "      <th>LEAD3_len_percent</th>\n",
       "      <th>Text_Rank_len</th>\n",
       "      <th>Text_Rank_len_percent</th>\n",
       "      <th>BART_len</th>\n",
       "      <th>BART_len_percent</th>\n",
       "    </tr>\n",
       "  </thead>\n",
       "  <tbody>\n",
       "    <tr>\n",
       "      <th>0</th>\n",
       "      <td>audio-sound</td>\n",
       "      <td>https://create.arduino.cc//projecthub/buzzandy...</td>\n",
       "      <td>My niece is getting into music so I to make he...</td>\n",
       "      <td>Introduction This project was pretty simple an...</td>\n",
       "      <td>My niece is getting into music so I to make he...</td>\n",
       "      <td>My niece is getting into music so I to make h...</td>\n",
       "      <td>262.0</td>\n",
       "      <td>37.0</td>\n",
       "      <td>0.141221</td>\n",
       "      <td>85.0</td>\n",
       "      <td>0.324427</td>\n",
       "      <td>63.0</td>\n",
       "      <td>0.240458</td>\n",
       "    </tr>\n",
       "    <tr>\n",
       "      <th>1</th>\n",
       "      <td>audio-sound</td>\n",
       "      <td>https://create.arduino.cc//projecthub/shajeeb/...</td>\n",
       "      <td>This project is for making a band audio music ...</td>\n",
       "      <td>Main of this frequency spectrum analyzer easil...</td>\n",
       "      <td>This project is for making a band audio music ...</td>\n",
       "      <td>This project is for making a band audio music...</td>\n",
       "      <td>810.0</td>\n",
       "      <td>47.0</td>\n",
       "      <td>0.058025</td>\n",
       "      <td>157.0</td>\n",
       "      <td>0.193827</td>\n",
       "      <td>61.0</td>\n",
       "      <td>0.075309</td>\n",
       "    </tr>\n",
       "    <tr>\n",
       "      <th>2</th>\n",
       "      <td>audio-sound</td>\n",
       "      <td>https://create.arduino.cc//projecthub/ericBcre...</td>\n",
       "      <td>The idea seen some I thought it would be cool ...</td>\n",
       "      <td>fooling around with a spinning and version exc...</td>\n",
       "      <td>The idea seen some I thought it would be cool ...</td>\n",
       "      <td>The idea seen some I thought it would be cool...</td>\n",
       "      <td>590.0</td>\n",
       "      <td>60.0</td>\n",
       "      <td>0.101695</td>\n",
       "      <td>192.0</td>\n",
       "      <td>0.325424</td>\n",
       "      <td>51.0</td>\n",
       "      <td>0.086441</td>\n",
       "    </tr>\n",
       "    <tr>\n",
       "      <th>3</th>\n",
       "      <td>audio-sound</td>\n",
       "      <td>https://create.arduino.cc//projecthub/lindsi87...</td>\n",
       "      <td>To begin I should fill you in that I am comple...</td>\n",
       "      <td>and setting the frequency for each of the pian...</td>\n",
       "      <td>To begin I should fill you in that I am comple...</td>\n",
       "      <td>The basic for both the main and the individua...</td>\n",
       "      <td>789.0</td>\n",
       "      <td>64.0</td>\n",
       "      <td>0.081115</td>\n",
       "      <td>90.0</td>\n",
       "      <td>0.114068</td>\n",
       "      <td>45.0</td>\n",
       "      <td>0.057034</td>\n",
       "    </tr>\n",
       "    <tr>\n",
       "      <th>4</th>\n",
       "      <td>audio-sound</td>\n",
       "      <td>https://create.arduino.cc//projecthub/jrance/s...</td>\n",
       "      <td>Learning electronics not only can be fan but i...</td>\n",
       "      <td>I used to be one of those thinking I would nev...</td>\n",
       "      <td>Learning electronics not only can be fan but i...</td>\n",
       "      <td>Learning electronics not only can be fan but ...</td>\n",
       "      <td>219.0</td>\n",
       "      <td>62.0</td>\n",
       "      <td>0.283105</td>\n",
       "      <td>86.0</td>\n",
       "      <td>0.392694</td>\n",
       "      <td>68.0</td>\n",
       "      <td>0.310502</td>\n",
       "    </tr>\n",
       "  </tbody>\n",
       "</table>\n",
       "</div>"
      ],
      "text/plain": [
       "      catigory                                               link  \\\n",
       "0  audio-sound  https://create.arduino.cc//projecthub/buzzandy...   \n",
       "1  audio-sound  https://create.arduino.cc//projecthub/shajeeb/...   \n",
       "2  audio-sound  https://create.arduino.cc//projecthub/ericBcre...   \n",
       "3  audio-sound  https://create.arduino.cc//projecthub/lindsi87...   \n",
       "4  audio-sound  https://create.arduino.cc//projecthub/jrance/s...   \n",
       "\n",
       "                                                text  \\\n",
       "0  My niece is getting into music so I to make he...   \n",
       "1  This project is for making a band audio music ...   \n",
       "2  The idea seen some I thought it would be cool ...   \n",
       "3  To begin I should fill you in that I am comple...   \n",
       "4  Learning electronics not only can be fan but i...   \n",
       "\n",
       "                                           Text_Rank  \\\n",
       "0  Introduction This project was pretty simple an...   \n",
       "1  Main of this frequency spectrum analyzer easil...   \n",
       "2  fooling around with a spinning and version exc...   \n",
       "3  and setting the frequency for each of the pian...   \n",
       "4  I used to be one of those thinking I would nev...   \n",
       "\n",
       "                                               LEAD3  \\\n",
       "0  My niece is getting into music so I to make he...   \n",
       "1  This project is for making a band audio music ...   \n",
       "2  The idea seen some I thought it would be cool ...   \n",
       "3  To begin I should fill you in that I am comple...   \n",
       "4  Learning electronics not only can be fan but i...   \n",
       "\n",
       "                                                BART  text_len  LEAD3_len  \\\n",
       "0   My niece is getting into music so I to make h...     262.0       37.0   \n",
       "1   This project is for making a band audio music...     810.0       47.0   \n",
       "2   The idea seen some I thought it would be cool...     590.0       60.0   \n",
       "3   The basic for both the main and the individua...     789.0       64.0   \n",
       "4   Learning electronics not only can be fan but ...     219.0       62.0   \n",
       "\n",
       "   LEAD3_len_percent  Text_Rank_len  Text_Rank_len_percent  BART_len  \\\n",
       "0           0.141221           85.0               0.324427      63.0   \n",
       "1           0.058025          157.0               0.193827      61.0   \n",
       "2           0.101695          192.0               0.325424      51.0   \n",
       "3           0.081115           90.0               0.114068      45.0   \n",
       "4           0.283105           86.0               0.392694      68.0   \n",
       "\n",
       "   BART_len_percent  \n",
       "0          0.240458  \n",
       "1          0.075309  \n",
       "2          0.086441  \n",
       "3          0.057034  \n",
       "4          0.310502  "
      ]
     },
     "execution_count": 8,
     "metadata": {},
     "output_type": "execute_result"
    }
   ],
   "source": [
    "df.head()"
   ]
  },
  {
   "cell_type": "code",
   "execution_count": 9,
   "metadata": {},
   "outputs": [
    {
     "data": {
      "text/plain": [
       "'My niece is getting into music so I to make her something cool for her room . I also been interested in sound reactive so this was a good learning project . Here s the on . Introduction This project was pretty simple and been done countless times but for me it was fun to put together a bunch of and to package it into a fun end product I used the as the base . Used the library to decode the sound into library to drive the led and an old C case to hold it all together . A few about the I use a POT to control the sound sensitivity Microphone amplifier is sensitive to noise so I shielded the with grounded metal tape which a lot . The strip in a few ways . color brightness saturation based on volume of each octave the same LED pattern across the strip but the colors and flip each set so it more continuous as it the pattern along the strip at the it white briefly you need to test out the pink noise to get it tuned correctly . this from board to board I used an old . Wall Wart as power supply . It s a little but should be if she t drive it so hard . I think a supply would be better . Also I could have put in a capacitor instead of the just the at the power supply to the LED s . That would have with the current . Next time Code'"
      ]
     },
     "execution_count": 9,
     "metadata": {},
     "output_type": "execute_result"
    }
   ],
   "source": [
    "df['text'][0]"
   ]
  },
  {
   "cell_type": "code",
   "execution_count": 10,
   "metadata": {},
   "outputs": [],
   "source": [
    "# function to remove stopwords\n",
    "def remove_stopwords(sen):\n",
    "    sen_new = \" \".join([i for i in sen if i not in stop_words])\n",
    "    return sen_new"
   ]
  },
  {
   "cell_type": "code",
   "execution_count": 11,
   "metadata": {},
   "outputs": [
    {
     "name": "stdout",
     "output_type": "stream",
     "text": [
      "49 126\n",
      "61 323\n",
      "38 580\n",
      "83 800\n"
     ]
    }
   ],
   "source": [
    "TOP = 3\n",
    "for idx, row in df.iterrows():\n",
    "    sentences = sent_tokenize(row['text'])\n",
    "    \n",
    "    # remove punctuations, numbers and special characters\n",
    "    clean_sentences = pd.Series(sentences).str.replace(\"[^a-zA-Z]\", \" \", regex=True)\n",
    "\n",
    "    # make alphabets lowercase\n",
    "    clean_sentences = [s.lower() for s in clean_sentences]\n",
    "    \n",
    "    # remove stopwords from the sentences\n",
    "    clean_sentences = [remove_stopwords(r.split()) for r in clean_sentences]\n",
    "    \n",
    "    sentence_vectors = []\n",
    "    for i in clean_sentences:\n",
    "        if len(i) != 0:\n",
    "            v = sum([word_embeddings.get(w, np.zeros((100,))) for w in i.split()])/(len(i.split())+0.001)\n",
    "        else:\n",
    "            v = np.zeros((100,))\n",
    "        sentence_vectors.append(v)\n",
    "    \n",
    "    # similarity matrix\n",
    "    matrix_size = min(100, len(sentences))\n",
    "    sim_mat = np.zeros([matrix_size, matrix_size])\n",
    "    for i in range(matrix_size):\n",
    "        for j in range(matrix_size):\n",
    "            if i != j:\n",
    "                sim_mat[i][j] = cosine_similarity(sentence_vectors[i].reshape(1,100), sentence_vectors[j].reshape(1,100))[0,0]\n",
    "    \n",
    "    nx_graph = nx.from_numpy_array(sim_mat)\n",
    "    try:\n",
    "        scores = nx.pagerank(nx_graph)\n",
    "        ranked_sentences = sorted(((scores[i], sentences[i]) for i in range(matrix_size)), reverse=True)\n",
    "        summary = [s[1] for s in ranked_sentences]\n",
    "    except:\n",
    "        print(matrix_size, idx)\n",
    "        summary = sentences\n",
    "\n",
    "    df.loc[idx, 'Text_Rank'] = ' '.join(summary[:TOP])"
   ]
  },
  {
   "cell_type": "code",
   "execution_count": 12,
   "metadata": {},
   "outputs": [],
   "source": [
    "TOP = 3\n",
    "for idx, row in df.iterrows():\n",
    "    sentences = sent_tokenize(row['text'])\n",
    "    \n",
    "    # remove punctuations, numbers and special characters\n",
    "    clean_sentences = pd.Series(sentences).str.replace(\"[^a-zA-Z]\", \" \", regex=True)\n",
    "\n",
    "    # make alphabets lowercase\n",
    "    clean_sentences = [s.lower() for s in clean_sentences]\n",
    "    \n",
    "    df.loc[idx, 'LEAD3']= ' '.join(sentences[:3])"
   ]
  },
  {
   "cell_type": "code",
   "execution_count": 12,
   "metadata": {},
   "outputs": [
    {
     "name": "stdout",
     "output_type": "stream",
     "text": [
      "Requirement already satisfied: transformers in /Users/yiwenshi/opt/anaconda3/lib/python3.8/site-packages (4.6.1)\n",
      "Requirement already satisfied: tokenizers<0.11,>=0.10.1 in /Users/yiwenshi/opt/anaconda3/lib/python3.8/site-packages (from transformers) (0.10.2)\n",
      "Requirement already satisfied: regex!=2019.12.17 in /Users/yiwenshi/opt/anaconda3/lib/python3.8/site-packages (from transformers) (2020.10.15)\n",
      "Requirement already satisfied: tqdm>=4.27 in /Users/yiwenshi/opt/anaconda3/lib/python3.8/site-packages (from transformers) (4.49.0)\n",
      "Requirement already satisfied: sacremoses in /Users/yiwenshi/opt/anaconda3/lib/python3.8/site-packages (from transformers) (0.0.45)\n",
      "Requirement already satisfied: numpy>=1.17 in /Users/yiwenshi/opt/anaconda3/lib/python3.8/site-packages (from transformers) (1.20.2)\n",
      "Requirement already satisfied: huggingface-hub==0.0.8 in /Users/yiwenshi/opt/anaconda3/lib/python3.8/site-packages (from transformers) (0.0.8)\n",
      "Requirement already satisfied: packaging in /Users/yiwenshi/opt/anaconda3/lib/python3.8/site-packages (from transformers) (20.4)\n",
      "Requirement already satisfied: filelock in /Users/yiwenshi/opt/anaconda3/lib/python3.8/site-packages (from transformers) (3.0.12)\n",
      "Requirement already satisfied: requests in /Users/yiwenshi/opt/anaconda3/lib/python3.8/site-packages (from transformers) (2.25.1)\n",
      "Requirement already satisfied: six in /Users/yiwenshi/opt/anaconda3/lib/python3.8/site-packages (from sacremoses->transformers) (1.15.0)\n",
      "Requirement already satisfied: joblib in /Users/yiwenshi/opt/anaconda3/lib/python3.8/site-packages (from sacremoses->transformers) (1.0.1)\n",
      "Requirement already satisfied: click in /Users/yiwenshi/opt/anaconda3/lib/python3.8/site-packages (from sacremoses->transformers) (7.1.2)\n",
      "Requirement already satisfied: pyparsing>=2.0.2 in /Users/yiwenshi/opt/anaconda3/lib/python3.8/site-packages (from packaging->transformers) (2.4.7)\n",
      "Requirement already satisfied: certifi>=2017.4.17 in /Users/yiwenshi/opt/anaconda3/lib/python3.8/site-packages (from requests->transformers) (2020.6.20)\n",
      "Requirement already satisfied: chardet<5,>=3.0.2 in /Users/yiwenshi/opt/anaconda3/lib/python3.8/site-packages (from requests->transformers) (3.0.4)\n",
      "Requirement already satisfied: idna<3,>=2.5 in /Users/yiwenshi/opt/anaconda3/lib/python3.8/site-packages (from requests->transformers) (2.10)\n",
      "Requirement already satisfied: urllib3<1.27,>=1.21.1 in /Users/yiwenshi/opt/anaconda3/lib/python3.8/site-packages (from requests->transformers) (1.25.11)\n"
     ]
    }
   ],
   "source": [
    "!pip install transformers\n",
    "from transformers import pipeline\n",
    "summarizer = pipeline('summarization')"
   ]
  },
  {
   "cell_type": "code",
   "execution_count": null,
   "metadata": {},
   "outputs": [],
   "source": [
    "for idx, row in df.iterrows():\n",
    "    summary = summarizer(row['text'][:1024], max_length=200, min_length=30)\n",
    "    df.loc[idx, 'BART'] = summary[0]['summary_text']"
   ]
  },
  {
   "cell_type": "code",
   "execution_count": 14,
   "metadata": {},
   "outputs": [],
   "source": [
    "vocabulary_oraginal = set()\n",
    "vocabulary_text_rank = set()\n",
    "vocabulary_lead3 = set()\n",
    "vocabulary_bart = set()"
   ]
  },
  {
   "cell_type": "code",
   "execution_count": 15,
   "metadata": {},
   "outputs": [],
   "source": [
    "for idx, row in df.iterrows():\n",
    "    df.loc[idx, 'text_len'] = len(word_tokenize(row['text']))\n",
    "    vocabulary_oraginal.update(word_tokenize(row['text']))\n",
    "    df.loc[idx, 'LEAD3_len']= len(word_tokenize(row['LEAD3']))\n",
    "    df.loc[idx, 'LEAD3_len_percent']= len(word_tokenize(row['LEAD3']))/len(word_tokenize(row['text']))\n",
    "    vocabulary_lead3.update(word_tokenize(row['LEAD3']))\n",
    "    df.loc[idx, 'Text_Rank_len'] = len(word_tokenize(row['Text_Rank']))\n",
    "    df.loc[idx, 'Text_Rank_len_percent']= len(word_tokenize(row['Text_Rank']))/len(word_tokenize(row['text']))\n",
    "    vocabulary_text_rank.update(word_tokenize(row['Text_Rank']))\n",
    "    df.loc[idx, 'BART_len']= len(word_tokenize(row['BART']))\n",
    "    df.loc[idx, 'BART_len_percent']= len(word_tokenize(row['BART']))/len(word_tokenize(row['text']))\n",
    "    vocabulary_bart.update(word_tokenize(row['BART']))"
   ]
  },
  {
   "cell_type": "code",
   "execution_count": 16,
   "metadata": {},
   "outputs": [
    {
     "data": {
      "text/plain": [
       "(14154, 4896, 6033, 4696)"
      ]
     },
     "execution_count": 16,
     "metadata": {},
     "output_type": "execute_result"
    }
   ],
   "source": [
    "len(vocabulary_oraginal), len(vocabulary_lead3), len(vocabulary_text_rank), len(vocabulary_bart)"
   ]
  },
  {
   "cell_type": "code",
   "execution_count": 19,
   "metadata": {},
   "outputs": [],
   "source": [
    "df.to_csv('project_hub_summary.csv', index=False)"
   ]
  },
  {
   "cell_type": "code",
   "execution_count": 20,
   "metadata": {},
   "outputs": [],
   "source": [
    "dist = df[['text_len', 'LEAD3_len', 'Text_Rank_len', 'BART_len']]\n",
    "dist = dist.rename(columns={\"text_len\": \"Original Document\", \"LEAD3_len\": \"LEAD-3\", \"Text_Rank_len\": \"Text Rank\", \"BART_len\": \"BART\"}, errors=\"raise\")"
   ]
  },
  {
   "cell_type": "code",
   "execution_count": 21,
   "metadata": {},
   "outputs": [
    {
     "data": {
      "text/html": [
       "<div>\n",
       "<style scoped>\n",
       "    .dataframe tbody tr th:only-of-type {\n",
       "        vertical-align: middle;\n",
       "    }\n",
       "\n",
       "    .dataframe tbody tr th {\n",
       "        vertical-align: top;\n",
       "    }\n",
       "\n",
       "    .dataframe thead th {\n",
       "        text-align: right;\n",
       "    }\n",
       "</style>\n",
       "<table border=\"1\" class=\"dataframe\">\n",
       "  <thead>\n",
       "    <tr style=\"text-align: right;\">\n",
       "      <th></th>\n",
       "      <th>Original Document</th>\n",
       "      <th>LEAD-3</th>\n",
       "      <th>Text Rank</th>\n",
       "      <th>BART</th>\n",
       "    </tr>\n",
       "  </thead>\n",
       "  <tbody>\n",
       "    <tr>\n",
       "      <th>0</th>\n",
       "      <td>262.0</td>\n",
       "      <td>37.0</td>\n",
       "      <td>85.0</td>\n",
       "      <td>63.0</td>\n",
       "    </tr>\n",
       "    <tr>\n",
       "      <th>1</th>\n",
       "      <td>810.0</td>\n",
       "      <td>47.0</td>\n",
       "      <td>157.0</td>\n",
       "      <td>61.0</td>\n",
       "    </tr>\n",
       "    <tr>\n",
       "      <th>2</th>\n",
       "      <td>590.0</td>\n",
       "      <td>60.0</td>\n",
       "      <td>192.0</td>\n",
       "      <td>51.0</td>\n",
       "    </tr>\n",
       "    <tr>\n",
       "      <th>3</th>\n",
       "      <td>789.0</td>\n",
       "      <td>64.0</td>\n",
       "      <td>90.0</td>\n",
       "      <td>45.0</td>\n",
       "    </tr>\n",
       "    <tr>\n",
       "      <th>4</th>\n",
       "      <td>219.0</td>\n",
       "      <td>62.0</td>\n",
       "      <td>86.0</td>\n",
       "      <td>68.0</td>\n",
       "    </tr>\n",
       "  </tbody>\n",
       "</table>\n",
       "</div>"
      ],
      "text/plain": [
       "   Original Document  LEAD-3  Text Rank  BART\n",
       "0              262.0    37.0       85.0  63.0\n",
       "1              810.0    47.0      157.0  61.0\n",
       "2              590.0    60.0      192.0  51.0\n",
       "3              789.0    64.0       90.0  45.0\n",
       "4              219.0    62.0       86.0  68.0"
      ]
     },
     "execution_count": 21,
     "metadata": {},
     "output_type": "execute_result"
    }
   ],
   "source": [
    "dist.head()"
   ]
  },
  {
   "cell_type": "code",
   "execution_count": 22,
   "metadata": {},
   "outputs": [
    {
     "data": {
      "image/png": "[encoded data removed]",
      "text/plain": [
       "<Figure size 432x288 with 1 Axes>"
      ]
     },
     "metadata": {
      "needs_background": "light"
     },
     "output_type": "display_data"
    }
   ],
   "source": [
    "import matplotlib.pyplot as plt\n",
    "fig, ax = plt.subplots()\n",
    "dist.plot.hist(density=True, ax=ax, bins=2000, alpha=0.5)\n",
    "ax.grid(axis='y')\n",
    "plt.xlim(0, 1000)\n",
    "plt.savefig('token_length.png')"
   ]
  },
  {
   "cell_type": "code",
   "execution_count": 23,
   "metadata": {},
   "outputs": [
    {
     "data": {
      "text/plain": [
       "(count      915.000000\n",
       " mean       951.228415\n",
       " std       1044.765386\n",
       " min        186.000000\n",
       " 25%        388.500000\n",
       " 50%        642.000000\n",
       " 75%       1217.500000\n",
       " max      15651.000000\n",
       " Name: Original Document, dtype: float64,\n",
       " count    915.000000\n",
       " mean      60.060109\n",
       " std       29.951597\n",
       " min        4.000000\n",
       " 25%       42.000000\n",
       " 50%       55.000000\n",
       " 75%       71.000000\n",
       " max      351.000000\n",
       " Name: LEAD-3, dtype: float64,\n",
       " count    915.000000\n",
       " mean     115.531148\n",
       " std       61.311308\n",
       " min       14.000000\n",
       " 25%       77.000000\n",
       " 50%      102.000000\n",
       " 75%      136.000000\n",
       " max      653.000000\n",
       " Name: Text Rank, dtype: float64,\n",
       " count    915.000000\n",
       " mean      55.260109\n",
       " std       13.474106\n",
       " min       29.000000\n",
       " 25%       46.000000\n",
       " 50%       54.000000\n",
       " 75%       63.000000\n",
       " max      129.000000\n",
       " Name: BART, dtype: float64)"
      ]
     },
     "execution_count": 23,
     "metadata": {},
     "output_type": "execute_result"
    }
   ],
   "source": [
    "dist[\"Original Document\"].describe(), dist[\"LEAD-3\"].describe(), dist[\"Text Rank\"].describe(), dist[\"BART\"].describe()"
   ]
  },
  {
   "cell_type": "code",
   "execution_count": 24,
   "metadata": {},
   "outputs": [
    {
     "data": {
      "text/plain": [
       "(0.10657770997148783, 0.19036870493808547, 0.10008449658955601)"
      ]
     },
     "execution_count": 24,
     "metadata": {},
     "output_type": "execute_result"
    }
   ],
   "source": [
    "df[\"LEAD3_len_percent\"].mean(), df[\"Text_Rank_len_percent\"].mean(), df[\"BART_len_percent\"].mean()"
   ]
  },
  {
   "cell_type": "code",
   "execution_count": null,
   "metadata": {},
   "outputs": [],
   "source": []
  }
 ],
 "metadata": {
  "kernelspec": {
   "display_name": "Python 3",
   "language": "python",
   "name": "python3"
  },
  "language_info": {
   "codemirror_mode": {
    "name": "ipython",
    "version": 3
   },
   "file_extension": ".py",
   "mimetype": "text/x-python",
   "name": "python",
   "nbconvert_exporter": "python",
   "pygments_lexer": "ipython3",
   "version": "3.8.5"
  }
 },
 "nbformat": 4,
 "nbformat_minor": 4
}
